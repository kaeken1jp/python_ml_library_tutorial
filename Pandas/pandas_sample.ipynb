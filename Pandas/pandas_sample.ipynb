{
 "cells": [
  {
   "cell_type": "code",
   "execution_count": 70,
   "metadata": {},
   "outputs": [],
   "source": [
    "# Pandas と Numpy を読み込み\n",
    "import pandas as pd\n",
    "import numpy as np\n"
   ]
  },
  {
   "cell_type": "code",
   "execution_count": 71,
   "metadata": {},
   "outputs": [
    {
     "name": "stdout",
     "output_type": "stream",
     "text": [
      "====\n",
      "0    1.0\n",
      "1    3.0\n",
      "2    5.0\n",
      "3    NaN\n",
      "4    6.0\n",
      "5    8.0\n",
      "dtype: float64\n"
     ]
    }
   ],
   "source": [
    "#Series (1 次元の値のリスト) を作成する\n",
    "s = pd.Series([1,3,5,np.nan,6,8])\n",
    "print(\"====\")\n",
    "print(s)\n"
   ]
  },
  {
   "cell_type": "code",
   "execution_count": 72,
   "metadata": {
    "scrolled": true
   },
   "outputs": [
    {
     "name": "stdout",
     "output_type": "stream",
     "text": [
      "====\n",
      "DatetimeIndex(['2013-01-01', '2013-01-02', '2013-01-03', '2013-01-04',\n",
      "               '2013-01-05', '2013-01-06'],\n",
      "              dtype='datetime64[ns]', freq='D')\n"
     ]
    }
   ],
   "source": [
    "dates = pd.date_range('20130101', periods=6)\n",
    "print(\"====\")\n",
    "print(dates)\n"
   ]
  },
  {
   "cell_type": "code",
   "execution_count": 73,
   "metadata": {
    "scrolled": true
   },
   "outputs": [
    {
     "name": "stdout",
     "output_type": "stream",
     "text": [
      "====\n",
      "     A          B    C  D      E    F\n",
      "0  1.0 2013-01-02  1.0  3   test  foo\n",
      "1  1.0 2013-01-02  1.0  3  train  foo\n",
      "2  1.0 2013-01-02  1.0  3   test  foo\n",
      "3  1.0 2013-01-02  1.0  3  train  foo\n",
      "====\n",
      "A           float64\n",
      "B    datetime64[ns]\n",
      "C           float32\n",
      "D             int32\n",
      "E          category\n",
      "F            object\n",
      "dtype: object\n",
      "====\n",
      "(4, 6)\n",
      "====\n",
      "                     0                    1                    2  \\\n",
      "A                    1                    1                    1   \n",
      "B  2013-01-02 00:00:00  2013-01-02 00:00:00  2013-01-02 00:00:00   \n",
      "C                    1                    1                    1   \n",
      "D                    3                    3                    3   \n",
      "E                 test                train                 test   \n",
      "F                  foo                  foo                  foo   \n",
      "\n",
      "                     3  \n",
      "A                    1  \n",
      "B  2013-01-02 00:00:00  \n",
      "C                    1  \n",
      "D                    3  \n",
      "E                train  \n",
      "F                  foo  \n"
     ]
    }
   ],
   "source": [
    "#データフレームの作成\n",
    "#A～Fの各列に数値、文字列、日付、Numpy の行列などを格納\n",
    "df = pd.DataFrame({ 'A' : 1.,\n",
    "                        'B' : pd.Timestamp('20130102'),\n",
    "                        'C' : pd.Series(1,index=list(range(4)),dtype='float32'),\n",
    "                        'D' : np.array([3] * 4,dtype='int32'),\n",
    "                        'E' : pd.Categorical([\"test\",\"train\",\"test\",\"train\"]),\n",
    "                        'F' : 'foo' })\n",
    "\n",
    "print(\"====\")\n",
    "print(df)# 日付の Series を作成\n",
    "print(\"====\")\n",
    "print(df.dtypes)#各列の型を確認\n",
    "print(\"====\")\n",
    "print(df.shape)#行列サイズを確認\n",
    "print(\"====\")\n",
    "print(df.T)#行列を入れ替えた転置行列を表示\n"
   ]
  },
  {
   "cell_type": "code",
   "execution_count": 74,
   "metadata": {},
   "outputs": [
    {
     "name": "stdout",
     "output_type": "stream",
     "text": [
      "====\n",
      "[[ 1.26260454  0.35869363 -0.25584429 -0.38175163]\n",
      " [ 0.7604221  -0.70911745  0.57765255 -1.04542761]\n",
      " [-0.26853378  0.37000191  0.66625417  0.11874918]\n",
      " [-0.2799615  -0.26880818 -1.61838739  0.85591199]\n",
      " [-0.89683614 -1.92588555  0.02506647  0.17684585]\n",
      " [ 0.36776721 -0.04586155 -1.17873798  0.86313381]]\n",
      "====\n",
      "          A         B         C         D\n",
      "0  1.262605  0.358694 -0.255844 -0.381752\n",
      "1  0.760422 -0.709117  0.577653 -1.045428\n",
      "2 -0.268534  0.370002  0.666254  0.118749\n",
      "3 -0.279961 -0.268808 -1.618387  0.855912\n",
      "4 -0.896836 -1.925886  0.025066  0.176846\n",
      "5  0.367767 -0.045862 -1.178738  0.863134\n",
      "====\n",
      "              A         B         C         D\n",
      "count  6.000000  6.000000  6.000000  6.000000\n",
      "mean   0.157577 -0.370163 -0.297333  0.097910\n",
      "std    0.789112  0.863676  0.929712  0.735404\n",
      "min   -0.896836 -1.925886 -1.618387 -1.045428\n",
      "25%   -0.277105 -0.599040 -0.948015 -0.256626\n",
      "50%    0.049617 -0.157335 -0.115389  0.147798\n",
      "75%    0.662258  0.257555  0.439506  0.686145\n",
      "max    1.262605  0.370002  0.666254  0.863134\n",
      "====行名でソート\n",
      "          A         B         C         D\n",
      "5  0.367767 -0.045862 -1.178738  0.863134\n",
      "4 -0.896836 -1.925886  0.025066  0.176846\n",
      "3 -0.279961 -0.268808 -1.618387  0.855912\n",
      "2 -0.268534  0.370002  0.666254  0.118749\n",
      "1  0.760422 -0.709117  0.577653 -1.045428\n",
      "0  1.262605  0.358694 -0.255844 -0.381752\n",
      "====列名でソート\n",
      "          D         C         B         A\n",
      "0 -0.381752 -0.255844  0.358694  1.262605\n",
      "1 -1.045428  0.577653 -0.709117  0.760422\n",
      "2  0.118749  0.666254  0.370002 -0.268534\n",
      "3  0.855912 -1.618387 -0.268808 -0.279961\n",
      "4  0.176846  0.025066 -1.925886 -0.896836\n",
      "5  0.863134 -1.178738 -0.045862  0.367767\n",
      "====B 列の値の小さい順 (昇順) にソート\n",
      "          A         B         C         D\n",
      "4 -0.896836 -1.925886  0.025066  0.176846\n",
      "1  0.760422 -0.709117  0.577653 -1.045428\n",
      "3 -0.279961 -0.268808 -1.618387  0.855912\n",
      "5  0.367767 -0.045862 -1.178738  0.863134\n",
      "0  1.262605  0.358694 -0.255844 -0.381752\n",
      "2 -0.268534  0.370002  0.666254  0.118749\n",
      "====C 列の値の大きい順 (降順) にソート\n",
      "          A         B         C         D\n",
      "2 -0.268534  0.370002  0.666254  0.118749\n",
      "1  0.760422 -0.709117  0.577653 -1.045428\n",
      "4 -0.896836 -1.925886  0.025066  0.176846\n",
      "0  1.262605  0.358694 -0.255844 -0.381752\n",
      "5  0.367767 -0.045862 -1.178738  0.863134\n",
      "3 -0.279961 -0.268808 -1.618387  0.855912\n"
     ]
    }
   ],
   "source": [
    "#Numpy の 行列からデータフレームを作成する\n",
    "# 6 x 4 の 2 次元の行列からデータフレームを作成し、各列に A, B, C, D という名前を付与\n",
    "matrix = np.random.randn(6,4)\n",
    "print(\"====\")\n",
    "print(matrix)\n",
    "\n",
    "df2 = pd.DataFrame(matrix, columns=list('ABCD'))\n",
    "print(\"====\")\n",
    "print(df2)\n",
    "#基本統計量を算出する\n",
    "#件数 (count)、平均値 (mean)、標準偏差 (std)、最小値(min)、第一四分位数 (25%)、中央値 (50%)、第三四分位数 (75%)、最大値 (max) を確認できる\n",
    "df2_desc = df2.describe()\n",
    "print(\"====\")\n",
    "print(df2_desc)\n",
    "# 行名でソート\n",
    "print(\"====行名でソート\")\n",
    "print(df2.sort_index(ascending=False))\n",
    "\n",
    "# 列名でソート\n",
    "print(\"====列名でソート\")\n",
    "print(df2.sort_index(axis=1, ascending=False))\n",
    "\n",
    "# B 列の値の小さい順 (昇順) にソート\n",
    "print(\"====B 列の値の小さい順 (昇順) にソート\")\n",
    "print(df2.sort_values(by='B'))\n",
    "\n",
    "# C 列の値の大きい順 (降順) にソート\n",
    "print(\"====C 列の値の大きい順 (降順) にソート\")\n",
    "print(df2.sort_values(by='C', ascending=False))\n",
    "\n"
   ]
  },
  {
   "cell_type": "code",
   "execution_count": 75,
   "metadata": {},
   "outputs": [
    {
     "name": "stdout",
     "output_type": "stream",
     "text": [
      "====\n",
      "   colA      colB        colC\n",
      "0     1  0.939168       apple\n",
      "1     2  0.240166      banana\n",
      "2     3  0.773911  strawberry\n",
      "3     4  0.687378       peach\n",
      "4     5  0.222150      orange\n",
      "====\n",
      "RangeIndex(start=0, stop=5, step=1)\n",
      "====\n",
      "5\n",
      "====\n",
      "Index(['colA', 'colB', 'colC'], dtype='object')\n",
      "====\n",
      "3\n",
      "====\n",
      "[[1 0.9391677947713448 'apple']\n",
      " [2 0.2401658292574136 'banana']\n",
      " [3 0.773911307118199 'strawberry']\n",
      " [4 0.6873776948399924 'peach']\n",
      " [5 0.22214993009504702 'orange']]\n",
      "====\n",
      "0    1\n",
      "1    2\n",
      "2    3\n",
      "3    4\n",
      "4    5\n",
      "Name: colA, dtype: int64\n",
      "0    1\n",
      "1    2\n",
      "2    3\n",
      "3    4\n",
      "4    5\n",
      "Name: colA, dtype: int64\n"
     ]
    }
   ],
   "source": [
    "#辞書(ディクショナリ)からデータフレームを作成する\n",
    "a_values = [1, 2, 3, 4, 5]\n",
    "b_values = np.random.rand(5)\n",
    "c_values = [\"apple\", \"banana\", \"strawberry\", \"peach\", \"orange\"]\n",
    "my_dict = {\"colA\": a_values, \"colB\": b_values, \"colC\":c_values}\n",
    "my_df = pd.DataFrame.from_dict(my_dict)\n",
    "print(\"====\")\n",
    "print(my_df)\n",
    "#行名を表示\n",
    "print(\"====\")\n",
    "print(my_df.index)\n",
    "#行数を表示\n",
    "print(\"====\")\n",
    "print(len(my_df.index))\n",
    "\n",
    "#列名を表示\n",
    "print(\"====\")\n",
    "print(my_df.columns)\n",
    "#列数を表示\n",
    "print(\"====\")\n",
    "print(len(my_df.columns))\n",
    "\n",
    "#値のみを 2 次元行列として表示する\n",
    "print(\"====\")\n",
    "print(my_df.values)\n",
    "#特定の列を取得する\n",
    "print(\"====\")\n",
    "print(my_df.colA)\n",
    "print(my_df[\"colA\"])"
   ]
  },
  {
   "cell_type": "code",
   "execution_count": 76,
   "metadata": {},
   "outputs": [
    {
     "data": {
      "text/html": [
       "<div>\n",
       "<style>\n",
       "    .dataframe thead tr:only-child th {\n",
       "        text-align: right;\n",
       "    }\n",
       "\n",
       "    .dataframe thead th {\n",
       "        text-align: left;\n",
       "    }\n",
       "\n",
       "    .dataframe tbody tr th {\n",
       "        vertical-align: top;\n",
       "    }\n",
       "</style>\n",
       "<table border=\"1\" class=\"dataframe\">\n",
       "  <thead>\n",
       "    <tr style=\"text-align: right;\">\n",
       "      <th></th>\n",
       "      <th>colA</th>\n",
       "      <th>colB</th>\n",
       "      <th>colC</th>\n",
       "    </tr>\n",
       "  </thead>\n",
       "  <tbody>\n",
       "    <tr>\n",
       "      <th>0</th>\n",
       "      <td>1</td>\n",
       "      <td>0.939168</td>\n",
       "      <td>apple</td>\n",
       "    </tr>\n",
       "    <tr>\n",
       "      <th>1</th>\n",
       "      <td>2</td>\n",
       "      <td>0.240166</td>\n",
       "      <td>banana</td>\n",
       "    </tr>\n",
       "    <tr>\n",
       "      <th>2</th>\n",
       "      <td>3</td>\n",
       "      <td>0.773911</td>\n",
       "      <td>strawberry</td>\n",
       "    </tr>\n",
       "  </tbody>\n",
       "</table>\n",
       "</div>"
      ],
      "text/plain": [
       "   colA      colB        colC\n",
       "0     1  0.939168       apple\n",
       "1     2  0.240166      banana\n",
       "2     3  0.773911  strawberry"
      ]
     },
     "execution_count": 76,
     "metadata": {},
     "output_type": "execute_result"
    }
   ],
   "source": [
    "# 先頭 3 行を抽出\n",
    "my_df.head(3)"
   ]
  },
  {
   "cell_type": "code",
   "execution_count": 77,
   "metadata": {},
   "outputs": [
    {
     "data": {
      "text/html": [
       "<div>\n",
       "<style>\n",
       "    .dataframe thead tr:only-child th {\n",
       "        text-align: right;\n",
       "    }\n",
       "\n",
       "    .dataframe thead th {\n",
       "        text-align: left;\n",
       "    }\n",
       "\n",
       "    .dataframe tbody tr th {\n",
       "        vertical-align: top;\n",
       "    }\n",
       "</style>\n",
       "<table border=\"1\" class=\"dataframe\">\n",
       "  <thead>\n",
       "    <tr style=\"text-align: right;\">\n",
       "      <th></th>\n",
       "      <th>colA</th>\n",
       "      <th>colB</th>\n",
       "      <th>colC</th>\n",
       "    </tr>\n",
       "  </thead>\n",
       "  <tbody>\n",
       "    <tr>\n",
       "      <th>3</th>\n",
       "      <td>4</td>\n",
       "      <td>0.687378</td>\n",
       "      <td>peach</td>\n",
       "    </tr>\n",
       "    <tr>\n",
       "      <th>4</th>\n",
       "      <td>5</td>\n",
       "      <td>0.222150</td>\n",
       "      <td>orange</td>\n",
       "    </tr>\n",
       "  </tbody>\n",
       "</table>\n",
       "</div>"
      ],
      "text/plain": [
       "   colA      colB    colC\n",
       "3     4  0.687378   peach\n",
       "4     5  0.222150  orange"
      ]
     },
     "execution_count": 77,
     "metadata": {},
     "output_type": "execute_result"
    }
   ],
   "source": [
    "# 末尾2行を抽出\n",
    "my_df.tail(2)"
   ]
  },
  {
   "cell_type": "code",
   "execution_count": 78,
   "metadata": {},
   "outputs": [
    {
     "name": "stdout",
     "output_type": "stream",
     "text": [
      "   colA      colB        colC\n",
      "0     1  0.939168       apple\n",
      "1     2  0.240166      banana\n",
      "2     3  0.773911  strawberry\n"
     ]
    }
   ],
   "source": [
    "#先頭から 3 行目までを抽出\n",
    "print(my_df[:3])"
   ]
  },
  {
   "cell_type": "code",
   "execution_count": 79,
   "metadata": {},
   "outputs": [
    {
     "name": "stdout",
     "output_type": "stream",
     "text": [
      "   colA      colB        colC\n",
      "1     2  0.240166      banana\n",
      "2     3  0.773911  strawberry\n",
      "3     4  0.687378       peach\n"
     ]
    }
   ],
   "source": [
    "# 2行目から 4行目までを抽出。1行目は0から指定。\n",
    "print(my_df[1:4])"
   ]
  },
  {
   "cell_type": "code",
   "execution_count": 80,
   "metadata": {},
   "outputs": [
    {
     "name": "stdout",
     "output_type": "stream",
     "text": [
      "   colA        colC\n",
      "1     2      banana\n",
      "2     3  strawberry\n",
      "3     4       peach\n",
      "4     5      orange\n"
     ]
    }
   ],
   "source": [
    "# 2行目から 4行目、かつ、 \"colA\" 列と \"colC\" 列を取得\n",
    "print(my_df.loc[1:4,['colA','colC']])"
   ]
  },
  {
   "cell_type": "code",
   "execution_count": 85,
   "metadata": {},
   "outputs": [
    {
     "name": "stdout",
     "output_type": "stream",
     "text": [
      "   colA    colC\n",
      "0     1   apple\n",
      "1     2  banana\n"
     ]
    }
   ],
   "source": [
    "# 先頭から2行、かつ、 1列と 3列を取得\n",
    "print(my_df.iloc[:2,[0,2]])"
   ]
  },
  {
   "cell_type": "code",
   "execution_count": null,
   "metadata": {
    "collapsed": true
   },
   "outputs": [],
   "source": []
  }
 ],
 "metadata": {
  "kernelspec": {
   "display_name": "Python 3",
   "language": "python",
   "name": "python3"
  },
  "language_info": {
   "codemirror_mode": {
    "name": "ipython",
    "version": 3
   },
   "file_extension": ".py",
   "mimetype": "text/x-python",
   "name": "python",
   "nbconvert_exporter": "python",
   "pygments_lexer": "ipython3",
   "version": "3.6.3"
  }
 },
 "nbformat": 4,
 "nbformat_minor": 2
}
